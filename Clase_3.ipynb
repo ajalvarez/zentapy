{
 "cells": [
  {
   "cell_type": "markdown",
   "metadata": {},
   "source": [
    "# Entrada de datos por teclado"
   ]
  },
  {
   "cell_type": "markdown",
   "metadata": {},
   "source": [
    "En python es posible introducir datos por teclado, ya sea para introducir parámetros en nuestro flujo de trabajo, o bien para evaluar \"funciones\" simple. Veamos esto a través de ejemplos.\n",
    "\n",
    "#### Ejemplo 1 (Caso de uso). \n",
    "A un TAAS trabajando en Arauco Forestal le piden construir una función que calcule el área de una zona de sus terrenos de cultivo, para marcar las zonas que se talarán para la extracción de celulosa. Como datos de entrada ofrecen el ancho y largo. La herramienta quieren escribirla en Python para disponibilizarla (a futuro) como una cloud function. ¿Cómo hacer esto?"
   ]
  },
  {
   "cell_type": "code",
   "execution_count": 19,
   "metadata": {},
   "outputs": [
    {
     "name": "stdout",
     "output_type": "stream",
     "text": [
      "Ancho del terreno [m]: 10\n",
      "Largo del terreno [m]: 10\n",
      "El área del terreno evaluado es  100.0 [m^2]\n"
     ]
    }
   ],
   "source": [
    "# usamos la instrucción input para \n",
    "# tomar los valores de largo y ancho.\n",
    "ancho = float(input(\"Ancho del terreno [m]: \"))\n",
    "largo = float(input(\"Largo del terreno [m]: \"))\n",
    "\n",
    "print('El área del terreno evaluado es ',ancho*largo, '[m^2]')"
   ]
  },
  {
   "cell_type": "markdown",
   "metadata": {},
   "source": [
    "#### Problema 1. \n",
    "Un emprendedor que quiere construir una app para ofrecer un servicio de encomiendas desea poder calcular cuanto debe cobrar cada uno de los usuarios de su app, considerando aspectos como ancho, largo, alto y peso. \n",
    "\n",
    "Este deduce la siguiente fórmula como calculadora de costos:\n",
    "\n",
    "Costo=(largo x alto x ancho + 2 x peso) x 1000\n",
    "\n",
    "Calcule el costo de envío si:\n",
    "- largo = 1\n",
    "- ancho = 2\n",
    "- alto = 3\n",
    "- peso = 4"
   ]
  },
  {
   "cell_type": "markdown",
   "metadata": {},
   "source": [
    "# Funciones"
   ]
  },
  {
   "cell_type": "markdown",
   "metadata": {},
   "source": [
    "Una función puede imaginarse como una maquina en la que introducimos objetos, esta los procesa, y devuelve otro objeto. Imaginen cualquier maquina ... "
   ]
  },
  {
   "cell_type": "markdown",
   "metadata": {},
   "source": [
    "Veamos una de las maquinas/funciones mas simples ... toma dos números y los suma. "
   ]
  },
  {
   "cell_type": "code",
   "execution_count": 3,
   "metadata": {},
   "outputs": [],
   "source": [
    "# sintaxis\n",
    "def suma1(numero1, numero2):\n",
    "    return numero1+numero2"
   ]
  },
  {
   "cell_type": "code",
   "execution_count": 4,
   "metadata": {},
   "outputs": [],
   "source": [
    "# hay otra forma de definir funciones\n",
    "suma2=lambda num1,num2: num1+num2"
   ]
  },
  {
   "cell_type": "code",
   "execution_count": 5,
   "metadata": {},
   "outputs": [
    {
     "data": {
      "text/plain": [
       "'hola amigo 123'"
      ]
     },
     "execution_count": 5,
     "metadata": {},
     "output_type": "execute_result"
    }
   ],
   "source": [
    "# Buenas prácticas: \n",
    "# Sintaxis\n",
    "\n",
    "def nombre_de_la_funcion(argumento1,argumento2):\n",
    "    '''\n",
    "    Documentación de la Función\n",
    "    -------------------------------------\n",
    "    Aquí explicamos que hace la función.\n",
    "    \n",
    "    Parámetros\n",
    "    ----------\n",
    "    argumento1: explicamos el significado de cada uno de los argumentos\n",
    "                de la función, así como sus restricciones.\n",
    "    argumento2: idem. \n",
    "    \n",
    "    Resultado/Retorno\n",
    "    -------------------\n",
    "    Lo que la función devuelve como resultado del proceso que realiza. \n",
    "    \n",
    "    Ejemplo\n",
    "    --------\n",
    "    >>> nombre_de_la_funcion('hola','amigo')\n",
    "    hola amigo 123\n",
    "\n",
    "\n",
    "    Referencias\n",
    "    ----------\n",
    "    .. [1] Alvarez-Socorro, A.J. Buenas prácticas a la hora de escribir \n",
    "       funciones en Python, Laboratorio de I+D+I Zenta, 2019.\n",
    "    '''\n",
    "    return str(argumento1)+' '+str(argumento2)+' 123'\n",
    "    \n",
    "\n",
    "nombre_de_la_funcion('hola','amigo')    \n"
   ]
  },
  {
   "cell_type": "code",
   "execution_count": 6,
   "metadata": {},
   "outputs": [],
   "source": [
    "# Construya funciones para los ejemplo 1 y para el problema 1."
   ]
  },
  {
   "cell_type": "code",
   "execution_count": 7,
   "metadata": {},
   "outputs": [
    {
     "name": "stdout",
     "output_type": "stream",
     "text": [
      "14000\n"
     ]
    }
   ],
   "source": [
    "def costo_del_envio(ancho,alto,largo,peso):\n",
    "    '''\n",
    "    Documentación:\n",
    "    ---------------\n",
    "    Esta función calcula el costo del envio\n",
    "    \n",
    "    ---- \n",
    "    ancho: float\n",
    "    alto: float\n",
    "    largo: float\n",
    "    peso: float\n",
    "    \n",
    "    salida\n",
    "    ------\n",
    "    precio: float\n",
    "    '''\n",
    "    precio=(largo * alto * ancho + 2 * peso) * 1000\n",
    "    return precio\n",
    "\n",
    "print(costo_del_envio(1,2,3,4))\n"
   ]
  },
  {
   "cell_type": "markdown",
   "metadata": {},
   "source": [
    "Las funciones pueden ser tan generales y complejas como el caso lo requiera. Inicialmente, no tienen dependencia explicita con el tipo de dato, sin embargo, si efectuamos alguna operación no permitida, esta nos dará un error."
   ]
  },
  {
   "cell_type": "code",
   "execution_count": null,
   "metadata": {},
   "outputs": [],
   "source": []
  },
  {
   "cell_type": "code",
   "execution_count": 8,
   "metadata": {},
   "outputs": [],
   "source": [
    "# Definimos una función que calcule el promedio de una \n",
    "# serie de números (i.e. en una lista)\n",
    "L1=[2,3,46,23,51,15]\n",
    "# 16.666\n",
    "\n",
    "def promedio1(L):\n",
    "    acum=0\n",
    "    for i in L:\n",
    "        acum=acum+i\n",
    "    pro=acum/len(L)\n",
    "    return pro\n",
    "\n",
    "def promedio2(L):\n",
    "    return sum(L)/len(L)\n",
    "\n",
    "promedio3=lambda L: sum(L)/len(L) "
   ]
  },
  {
   "cell_type": "code",
   "execution_count": 9,
   "metadata": {},
   "outputs": [
    {
     "data": {
      "text/plain": [
       "23.333333333333332"
      ]
     },
     "execution_count": 9,
     "metadata": {},
     "output_type": "execute_result"
    }
   ],
   "source": [
    "promedio3(L1)"
   ]
  },
  {
   "cell_type": "code",
   "execution_count": 10,
   "metadata": {},
   "outputs": [
    {
     "data": {
      "text/plain": [
       "19.223827807061618"
      ]
     },
     "execution_count": 10,
     "metadata": {},
     "output_type": "execute_result"
    }
   ],
   "source": [
    "# construyamos una función que calcule la desviación estándar\n",
    "# la fórmula de desviación estándar es\n",
    "# raiz(sum(x-mu)^2/N)\n",
    "\n",
    "def desviacion_estandar(L1):\n",
    "    mu=promedio2(L1)\n",
    "    s=0\n",
    "    for i in L1:\n",
    "        s=s+(i-mu)**2\n",
    "    var=((1/len(L1))*s)**0.5\n",
    "    return var\n",
    "\n",
    "desviacion_estandar(L1)"
   ]
  },
  {
   "cell_type": "code",
   "execution_count": 11,
   "metadata": {},
   "outputs": [
    {
     "data": {
      "text/plain": [
       "19.223827807061618"
      ]
     },
     "execution_count": 11,
     "metadata": {},
     "output_type": "execute_result"
    }
   ],
   "source": [
    "L1=[2,3,46,23,51,15]\n",
    "def desviacion_estandar2(L1):\n",
    "    mu=promedio2(L1)\n",
    "    s=0\n",
    "    LAUX=[(i-mu)**2 for i in L1]\n",
    "    s=sum(LAUX)\n",
    "    var=((1/len(L1))*s)**0.5\n",
    "    return var\n",
    "\n",
    "desviacion_estandar2(L1)"
   ]
  },
  {
   "cell_type": "code",
   "execution_count": 12,
   "metadata": {},
   "outputs": [
    {
     "data": {
      "text/plain": [
       "19.223827807061618"
      ]
     },
     "execution_count": 12,
     "metadata": {},
     "output_type": "execute_result"
    }
   ],
   "source": [
    "# Comparamos con numpy\n",
    "import numpy as np\n",
    "np.mean(L1)\n",
    "np.std(L1)"
   ]
  },
  {
   "cell_type": "code",
   "execution_count": 13,
   "metadata": {},
   "outputs": [
    {
     "name": "stdout",
     "output_type": "stream",
     "text": [
      "Anchura del rectángulo: \n"
     ]
    },
    {
     "ename": "ValueError",
     "evalue": "invalid literal for int() with base 10: ''",
     "output_type": "error",
     "traceback": [
      "\u001b[0;31m---------------------------------------------------------------------------\u001b[0m",
      "\u001b[0;31mValueError\u001b[0m                                Traceback (most recent call last)",
      "\u001b[0;32m<ipython-input-13-bd03b669a674>\u001b[0m in \u001b[0;36m<module>\u001b[0;34m\u001b[0m\n\u001b[1;32m      1\u001b[0m \u001b[0;31m# considere el siguiente código\u001b[0m\u001b[0;34m\u001b[0m\u001b[0;34m\u001b[0m\u001b[0;34m\u001b[0m\u001b[0m\n\u001b[1;32m      2\u001b[0m \u001b[0;34m\u001b[0m\u001b[0m\n\u001b[0;32m----> 3\u001b[0;31m \u001b[0manchura\u001b[0m \u001b[0;34m=\u001b[0m \u001b[0mint\u001b[0m\u001b[0;34m(\u001b[0m\u001b[0minput\u001b[0m\u001b[0;34m(\u001b[0m\u001b[0;34m\"Anchura del rectángulo: \"\u001b[0m\u001b[0;34m)\u001b[0m\u001b[0;34m)\u001b[0m\u001b[0;34m\u001b[0m\u001b[0;34m\u001b[0m\u001b[0m\n\u001b[0m\u001b[1;32m      4\u001b[0m \u001b[0maltura\u001b[0m \u001b[0;34m=\u001b[0m \u001b[0mint\u001b[0m\u001b[0;34m(\u001b[0m\u001b[0minput\u001b[0m\u001b[0;34m(\u001b[0m\u001b[0;34m\"Altura del rectángulo: \"\u001b[0m\u001b[0;34m)\u001b[0m\u001b[0;34m)\u001b[0m\u001b[0;34m\u001b[0m\u001b[0;34m\u001b[0m\u001b[0m\n\u001b[1;32m      5\u001b[0m \u001b[0;34m\u001b[0m\u001b[0m\n",
      "\u001b[0;31mValueError\u001b[0m: invalid literal for int() with base 10: ''"
     ]
    }
   ],
   "source": [
    "# considere el siguiente código\n",
    "\n",
    "anchura = int(input(\"Anchura del rectángulo: \"))\n",
    "altura = int(input(\"Altura del rectángulo: \"))\n",
    "\n",
    "for i in range(altura):\n",
    "    for j in range(anchura):\n",
    "        print(\"* \", end=\"\")\n",
    "    print()\n",
    "\n",
    "# construya una función que use anchura y altura como argumentos \n",
    "# y grafique un rectangulo de 10 x 6"
   ]
  },
  {
   "cell_type": "markdown",
   "metadata": {},
   "source": [
    "# problemas de funciones\n",
    "\n",
    "1. Escriba una función en Python que encuentre el máximo entre tres números.\n",
    "\n"
   ]
  },
  {
   "cell_type": "code",
   "execution_count": 20,
   "metadata": {},
   "outputs": [
    {
     "name": "stdout",
     "output_type": "stream",
     "text": [
      "10\n"
     ]
    }
   ],
   "source": [
    "def maxi(a,b,c):\n",
    "    return max(a,b,c)\n",
    "print(maxi(-1,10,2))\n",
    "\n",
    "def suma_l(L):\n",
    "    acum=0\n",
    "    for i in L:\n",
    "        acum=acum+i\n",
    "    return acum\n",
    "\n",
    "def suma_l(L):\n",
    "    acum=1\n",
    "    for i in L:\n",
    "        acum=acum*i\n",
    "    return acum\n"
   ]
  },
  {
   "cell_type": "markdown",
   "metadata": {},
   "source": []
  },
  {
   "cell_type": "markdown",
   "metadata": {},
   "source": [
    "2. Usando un for, escriba una función que sume todo los numeros de una lista. \n",
    "Lista Ejemplo : [9, 1, 3, 1, 6]\n",
    "Output : 20 \n",
    "\n",
    "3. Escriba una función en Python que multiplique todos los números de una lista.\n",
    "Lista Ejemplo: (1, 2, 3,5, -1)\n",
    "Output : -30 \n",
    "\n",
    "4. Escriba una función en Python que escriba una cadena al revés. \n",
    "Cadena de ejemplo: \"ZentaGroup123\"\n",
    "Output : \"321puorGatneZ\"\n",
    "\n",
    "5. Escriba una función que calcule el factorial de un número. \n",
    "$$n!=n*(n-1)*(n-2)\\ldots 2* 1$$\n",
    "\n",
    "6. Escriba una función que verifique si un número está en una lista. (For/Else :o)\n",
    "\n",
    "7. Escriba una función que cuente el número de mayúsculas y minusculas en una cadena de caracteres. \n",
    "Cadena de ejemplo : 'ZentaGroupNuNoA'\n",
    "Output : \n",
    "No. de caracteres en mayúscula: 5\n",
    "No. de caracteres en minúscula: 11\n",
    "\n",
    "8. Escriba una función que tome una lista y devuelva una nueva lista sin que ninguno de sus elementos esté repetido. \n",
    "Lista de prueba : [1,2,3,3,3,3,4,5]\n",
    "Lista resultante : [1, 2, 3, 4, 5]\n",
    "\n",
    "9. Escriba una función que chequee si una palabra o frase es palindroma y regrese True o False según sea el caso. \n",
    "Nota: Una palabra o frase es palindroma si se lee de la misma forma hacia delante y hacia atrás. Por ejemplo, \"yo soy\", \"somos o no somos\". \n",
    "\n",
    "10. Escriba una función que tenga como argumento una secuencia de palabras separadas por guiones y su salida sea la misma secuencia pero ordenada alfabéticamente.\n",
    "Ejemplo : verde-rojo-amarillo-negro-blanco\n",
    "Resultado : amarillo-blanco-..."
   ]
  },
  {
   "cell_type": "code",
   "execution_count": 15,
   "metadata": {},
   "outputs": [],
   "source": [
    "def inversa(A):\n",
    "    CR=''\n",
    "    for i in range(len(A)-1,-1,-1):\n",
    "        CR=CR+A[i]\n",
    "    return CR"
   ]
  },
  {
   "cell_type": "code",
   "execution_count": 16,
   "metadata": {},
   "outputs": [
    {
     "name": "stdout",
     "output_type": "stream",
     "text": [
      "321puorGatneZ\n"
     ]
    }
   ],
   "source": [
    "print(inversa('ZentaGroup123'))"
   ]
  },
  {
   "cell_type": "code",
   "execution_count": 17,
   "metadata": {},
   "outputs": [],
   "source": [
    "def factorial(n):\n",
    "    if n==1: return 1\n",
    "    else: return n*factorial(n-1)"
   ]
  },
  {
   "cell_type": "code",
   "execution_count": 18,
   "metadata": {},
   "outputs": [
    {
     "name": "stdout",
     "output_type": "stream",
     "text": [
      "3628800\n"
     ]
    }
   ],
   "source": [
    "print(factorial(10))"
   ]
  },
  {
   "cell_type": "code",
   "execution_count": null,
   "metadata": {},
   "outputs": [],
   "source": []
  },
  {
   "cell_type": "code",
   "execution_count": null,
   "metadata": {},
   "outputs": [],
   "source": []
  }
 ],
 "metadata": {
  "kernelspec": {
   "display_name": "Python 3",
   "language": "python",
   "name": "python3"
  },
  "language_info": {
   "codemirror_mode": {
    "name": "ipython",
    "version": 3
   },
   "file_extension": ".py",
   "mimetype": "text/x-python",
   "name": "python",
   "nbconvert_exporter": "python",
   "pygments_lexer": "ipython3",
   "version": "3.7.4"
  }
 },
 "nbformat": 4,
 "nbformat_minor": 2
}
