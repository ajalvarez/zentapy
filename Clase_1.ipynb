{
 "cells": [
  {
   "cell_type": "markdown",
   "metadata": {},
   "source": [
    "# Micro-Learning Sessions\n",
    "## Python en Cápsulas\n",
    "El objetivo de esta mini-tutoría es hacer un breve repaso de Python, sus tipos de datos, estructuras de control de flujo y lectura y escritura. Al finalizar este breve tutorial podrás:\n",
    "\n",
    "- Manejar los tipos de datos nativos de python\n",
    "- Manejar algunos tipos de datos / clases provenientes de librerías\n",
    "- Crear programas simples orientados a calcular cantidades de interés. \n",
    "- Leer, escribir y procesar archivos de datos en los formatos estándares. "
   ]
  },
  {
   "cell_type": "code",
   "execution_count": null,
   "metadata": {},
   "outputs": [],
   "source": []
  },
  {
   "cell_type": "markdown",
   "metadata": {},
   "source": [
    "### Tipos de datos básicos y sus operaciones"
   ]
  },
  {
   "cell_type": "code",
   "execution_count": 84,
   "metadata": {},
   "outputs": [
    {
     "data": {
      "text/plain": [
       "int"
      ]
     },
     "execution_count": 84,
     "metadata": {},
     "output_type": "execute_result"
    }
   ],
   "source": [
    "# Enteros\n",
    "a=2\n",
    "type(a)"
   ]
  },
  {
   "cell_type": "code",
   "execution_count": 85,
   "metadata": {},
   "outputs": [
    {
     "data": {
      "text/plain": [
       "float"
      ]
     },
     "execution_count": 85,
     "metadata": {},
     "output_type": "execute_result"
    }
   ],
   "source": [
    "# Flotantes\n",
    "b=2.1\n",
    "type(b)"
   ]
  },
  {
   "cell_type": "code",
   "execution_count": 86,
   "metadata": {},
   "outputs": [
    {
     "data": {
      "text/plain": [
       "str"
      ]
     },
     "execution_count": 86,
     "metadata": {},
     "output_type": "execute_result"
    }
   ],
   "source": [
    "# Strings o cadenas de caracteres\n",
    "c='hola'\n",
    "type(c)"
   ]
  },
  {
   "cell_type": "code",
   "execution_count": 87,
   "metadata": {},
   "outputs": [
    {
     "data": {
      "text/plain": [
       "bool"
      ]
     },
     "execution_count": 87,
     "metadata": {},
     "output_type": "execute_result"
    }
   ],
   "source": [
    "# Booleanos \n",
    "d=True\n",
    "type(d)"
   ]
  },
  {
   "cell_type": "code",
   "execution_count": 88,
   "metadata": {},
   "outputs": [
    {
     "name": "stdout",
     "output_type": "stream",
     "text": [
      "4.1\n"
     ]
    },
    {
     "data": {
      "text/plain": [
       "float"
      ]
     },
     "execution_count": 88,
     "metadata": {},
     "output_type": "execute_result"
    }
   ],
   "source": [
    "# ¿Que pasaría si sumo a + b?\n",
    "suma1=a+b\n",
    "print(suma1) # función de python para imprimir en pantalla. (Útil fuera de Jupyter)\n",
    "type(suma1)"
   ]
  },
  {
   "cell_type": "code",
   "execution_count": 89,
   "metadata": {},
   "outputs": [
    {
     "name": "stdout",
     "output_type": "stream",
     "text": [
      "holahola\n"
     ]
    }
   ],
   "source": [
    "# ¿y si multiplico a * c?\n",
    "print(a*c)"
   ]
  },
  {
   "cell_type": "code",
   "execution_count": 90,
   "metadata": {},
   "outputs": [],
   "source": [
    "# esta operación está bien definida."
   ]
  },
  {
   "cell_type": "code",
   "execution_count": 91,
   "metadata": {},
   "outputs": [
    {
     "ename": "TypeError",
     "evalue": "can't multiply sequence by non-int of type 'float'",
     "output_type": "error",
     "traceback": [
      "\u001b[0;31m---------------------------------------------------------------------------\u001b[0m",
      "\u001b[0;31mTypeError\u001b[0m                                 Traceback (most recent call last)",
      "\u001b[0;32m<ipython-input-91-0bca442c6721>\u001b[0m in \u001b[0;36m<module>\u001b[0;34m\u001b[0m\n\u001b[0;32m----> 1\u001b[0;31m \u001b[0mprint\u001b[0m\u001b[0;34m(\u001b[0m\u001b[0mb\u001b[0m\u001b[0;34m*\u001b[0m\u001b[0mc\u001b[0m\u001b[0;34m)\u001b[0m\u001b[0;34m\u001b[0m\u001b[0;34m\u001b[0m\u001b[0m\n\u001b[0m",
      "\u001b[0;31mTypeError\u001b[0m: can't multiply sequence by non-int of type 'float'"
     ]
    }
   ],
   "source": [
    "print(b*c)"
   ]
  },
  {
   "cell_type": "code",
   "execution_count": 92,
   "metadata": {},
   "outputs": [],
   "source": [
    "# y claramente esta no."
   ]
  },
  {
   "cell_type": "code",
   "execution_count": 93,
   "metadata": {},
   "outputs": [
    {
     "name": "stdout",
     "output_type": "stream",
     "text": [
      "0\n"
     ]
    }
   ],
   "source": [
    "print(a*False)"
   ]
  },
  {
   "cell_type": "code",
   "execution_count": 94,
   "metadata": {},
   "outputs": [
    {
     "name": "stdout",
     "output_type": "stream",
     "text": [
      "2\n"
     ]
    }
   ],
   "source": [
    "print(a*True)"
   ]
  },
  {
   "cell_type": "code",
   "execution_count": 95,
   "metadata": {},
   "outputs": [
    {
     "name": "stdout",
     "output_type": "stream",
     "text": [
      "0\n"
     ]
    }
   ],
   "source": [
    "print(False*True)"
   ]
  },
  {
   "cell_type": "code",
   "execution_count": 96,
   "metadata": {},
   "outputs": [],
   "source": [
    "# ¿cuando son útiles estos tipos de datos?"
   ]
  },
  {
   "cell_type": "code",
   "execution_count": 97,
   "metadata": {},
   "outputs": [
    {
     "name": "stdout",
     "output_type": "stream",
     "text": [
      "True\n"
     ]
    }
   ],
   "source": [
    "print(a==2)"
   ]
  },
  {
   "cell_type": "code",
   "execution_count": 98,
   "metadata": {},
   "outputs": [
    {
     "name": "stdout",
     "output_type": "stream",
     "text": [
      "True\n"
     ]
    }
   ],
   "source": [
    "print(b>a)"
   ]
  },
  {
   "cell_type": "code",
   "execution_count": 99,
   "metadata": {},
   "outputs": [
    {
     "name": "stdout",
     "output_type": "stream",
     "text": [
      "False\n"
     ]
    }
   ],
   "source": [
    "print(b<a)"
   ]
  },
  {
   "cell_type": "markdown",
   "metadata": {},
   "source": [
    "### Tipado dinámico \n",
    "¿En que otros lenguajes ha programado?"
   ]
  },
  {
   "cell_type": "code",
   "execution_count": 100,
   "metadata": {},
   "outputs": [],
   "source": [
    "a=2 # es suficiente para crear una variable, asignarle tipo y valor. \n",
    "\n",
    "# ¿cómo sería el equivalente en los lenguajes de programación que conoce?"
   ]
  },
  {
   "cell_type": "code",
   "execution_count": 101,
   "metadata": {},
   "outputs": [],
   "source": [
    "a=3.2 # esto es suficiente para cambiar el tipo y reasignar valor. \n",
    "\n",
    "# ¿cómo sería el equivalente en los lenguajes de programación que conoce?"
   ]
  },
  {
   "cell_type": "code",
   "execution_count": null,
   "metadata": {},
   "outputs": [],
   "source": []
  },
  {
   "cell_type": "markdown",
   "metadata": {},
   "source": [
    "# Listas (el caballo de batalla de Python)"
   ]
  },
  {
   "cell_type": "code",
   "execution_count": 102,
   "metadata": {},
   "outputs": [],
   "source": [
    "# Para crear una lista vacía escribimos un par de corchetes cerrados [ ]:\n",
    "L=[]"
   ]
  },
  {
   "cell_type": "code",
   "execution_count": 103,
   "metadata": {},
   "outputs": [],
   "source": [
    "# Podemos defirla listando uno a uno sus valores\n",
    "L1=[1,2,3,4,5]"
   ]
  },
  {
   "cell_type": "code",
   "execution_count": 104,
   "metadata": {},
   "outputs": [],
   "source": [
    "# o bien creando una lista vacia agregando uno a uno sus valores, \n",
    "# utilizando el método append\n",
    "L2=[]\n",
    "L2.append(1)\n",
    "L2.append(2)\n",
    "L2.append(3)\n",
    "L2.append(4)\n",
    "L2.append(5)"
   ]
  },
  {
   "cell_type": "code",
   "execution_count": 105,
   "metadata": {},
   "outputs": [
    {
     "data": {
      "text/plain": [
       "[1, 2, 3, 4, 5]"
      ]
     },
     "execution_count": 105,
     "metadata": {},
     "output_type": "execute_result"
    }
   ],
   "source": [
    "L1"
   ]
  },
  {
   "cell_type": "code",
   "execution_count": 106,
   "metadata": {},
   "outputs": [
    {
     "data": {
      "text/plain": [
       "True"
      ]
     },
     "execution_count": 106,
     "metadata": {},
     "output_type": "execute_result"
    }
   ],
   "source": [
    "L1==L2"
   ]
  },
  {
   "cell_type": "markdown",
   "metadata": {},
   "source": [
    "una lista puede contener cualquier tipo de datos"
   ]
  },
  {
   "cell_type": "code",
   "execution_count": 107,
   "metadata": {},
   "outputs": [],
   "source": [
    "L3=[1,'hola',True, 3.12]"
   ]
  },
  {
   "cell_type": "markdown",
   "metadata": {},
   "source": [
    "inclusive puede contener listas o cualquier otra estructura de mayor complejidad"
   ]
  },
  {
   "cell_type": "code",
   "execution_count": 108,
   "metadata": {},
   "outputs": [],
   "source": [
    "L3.append([1,2,3,4,5])"
   ]
  },
  {
   "cell_type": "code",
   "execution_count": 109,
   "metadata": {},
   "outputs": [
    {
     "name": "stdout",
     "output_type": "stream",
     "text": [
      "[1, 'hola', True, 3.12, [1, 2, 3, 4, 5]]\n"
     ]
    }
   ],
   "source": [
    "print(L3)"
   ]
  },
  {
   "cell_type": "code",
   "execution_count": 110,
   "metadata": {},
   "outputs": [],
   "source": [
    "# Indices"
   ]
  },
  {
   "cell_type": "markdown",
   "metadata": {},
   "source": [
    "Podemos llamar cualquier elemento de una lista escribiendo el nombre de la variable y entre corchetes el índice del elemento que deseamos, como Python tiene indexado cero, para el primer elemento escribimos L[0]."
   ]
  },
  {
   "cell_type": "code",
   "execution_count": 111,
   "metadata": {},
   "outputs": [
    {
     "name": "stdout",
     "output_type": "stream",
     "text": [
      "1\n"
     ]
    }
   ],
   "source": [
    "print(L3[0])"
   ]
  },
  {
   "cell_type": "code",
   "execution_count": 112,
   "metadata": {},
   "outputs": [
    {
     "name": "stdout",
     "output_type": "stream",
     "text": [
      "True\n"
     ]
    }
   ],
   "source": [
    "print(L3[2])"
   ]
  },
  {
   "cell_type": "markdown",
   "metadata": {},
   "source": [
    "Podemos eliminar un elemento partícular de una lista usando el método remove()"
   ]
  },
  {
   "cell_type": "code",
   "execution_count": 113,
   "metadata": {},
   "outputs": [],
   "source": [
    "L3.remove(3.12)"
   ]
  },
  {
   "cell_type": "code",
   "execution_count": 116,
   "metadata": {},
   "outputs": [
    {
     "name": "stdout",
     "output_type": "stream",
     "text": [
      "['hola', True, [1, 2, 3, 4, 5]]\n"
     ]
    }
   ],
   "source": [
    "print(L3)"
   ]
  },
  {
   "cell_type": "markdown",
   "metadata": {},
   "source": [
    "También podemos empalmar dos listas haciendo"
   ]
  },
  {
   "cell_type": "code",
   "execution_count": 117,
   "metadata": {},
   "outputs": [],
   "source": [
    "L1=['a','b','c']\n",
    "L2=[1,2,3]\n",
    "L1.extend(L2)"
   ]
  },
  {
   "cell_type": "code",
   "execution_count": 118,
   "metadata": {},
   "outputs": [
    {
     "name": "stdout",
     "output_type": "stream",
     "text": [
      "['a', 'b', 'c', 1, 2, 3]\n"
     ]
    }
   ],
   "source": [
    "print(L1)"
   ]
  },
  {
   "cell_type": "code",
   "execution_count": null,
   "metadata": {},
   "outputs": [],
   "source": [
    "# Tamaño de una lista\n",
    "len(L1)"
   ]
  },
  {
   "cell_type": "markdown",
   "metadata": {},
   "source": [
    "Consideremos una lista mas compleja. Para este ejemplo utilizaré la librería numpy"
   ]
  },
  {
   "cell_type": "code",
   "execution_count": 62,
   "metadata": {},
   "outputs": [],
   "source": [
    "import numpy as np # esta forma de importar librerías es común en python "
   ]
  },
  {
   "cell_type": "code",
   "execution_count": 63,
   "metadata": {},
   "outputs": [],
   "source": [
    "L=np.random.random(100)"
   ]
  },
  {
   "cell_type": "markdown",
   "metadata": {},
   "source": [
    "Veamos la lista:"
   ]
  },
  {
   "cell_type": "code",
   "execution_count": 64,
   "metadata": {},
   "outputs": [
    {
     "name": "stdout",
     "output_type": "stream",
     "text": [
      "[0.53547764 0.51035181 0.34508772 0.27904117 0.33230625 0.92776499\n",
      " 0.11694507 0.56382736 0.02735768 0.68196049 0.08777391 0.4893026\n",
      " 0.60748885 0.89841385 0.92235883 0.72831868 0.8107191  0.90442907\n",
      " 0.82185564 0.7288089  0.31049912 0.71929549 0.46526042 0.3222139\n",
      " 0.20165358 0.81465817 0.46524642 0.09815708 0.64682569 0.47939326\n",
      " 0.09089221 0.67232062 0.77646964 0.15374766 0.68326017 0.46613223\n",
      " 0.4385329  0.06499293 0.42515943 0.02651892 0.40557356 0.74101096\n",
      " 0.7203908  0.18298964 0.77298992 0.78994839 0.30771738 0.40465134\n",
      " 0.41141015 0.77460894 0.32728172 0.1354131  0.39940514 0.78730943\n",
      " 0.01471159 0.6739097  0.43687426 0.42802549 0.00199958 0.7256927\n",
      " 0.9307537  0.93599176 0.17746694 0.43160785 0.99930808 0.45696992\n",
      " 0.43270743 0.77934502 0.05782526 0.07804961 0.12981473 0.79903725\n",
      " 0.49539318 0.66327951 0.43619043 0.32919633 0.92279787 0.77977336\n",
      " 0.5653441  0.15622414 0.5703013  0.4621561  0.80477629 0.22083866\n",
      " 0.59527315 0.42426367 0.26132663 0.92090926 0.93685856 0.95278912\n",
      " 0.56513647 0.83856674 0.51569327 0.89122795 0.34224191 0.0840036\n",
      " 0.86645169 0.99388586 0.63882684 0.10851616]\n"
     ]
    }
   ],
   "source": [
    "print(L)"
   ]
  },
  {
   "cell_type": "markdown",
   "metadata": {},
   "source": [
    "notemos que los datos no están ordenados (pues se creo agregando números de forma aleatoria). Para tener intuición visual sobre esta lista, podemos graficar indice vs valor, usando la librería matplotlib."
   ]
  },
  {
   "cell_type": "code",
   "execution_count": 65,
   "metadata": {},
   "outputs": [
    {
     "data": {
      "image/png": "[encoded data removed]",
      "text/plain": [
       "<Figure size 432x288 with 1 Axes>"
      ]
     },
     "metadata": {
      "needs_background": "light"
     },
     "output_type": "display_data"
    }
   ],
   "source": [
    "import matplotlib.pyplot as plt\n",
    "plt.figure()\n",
    "plt.plot(L)\n",
    "plt.xlabel('i')\n",
    "plt.ylabel('L[i]')\n",
    "plt.show()\n"
   ]
  },
  {
   "cell_type": "markdown",
   "metadata": {},
   "source": [
    "Si esta lista estuviese ordenada de mayor a menor, veríamos una curva creciente. Procedamos a ordenarla."
   ]
  },
  {
   "cell_type": "code",
   "execution_count": 66,
   "metadata": {},
   "outputs": [],
   "source": [
    "L.sort()"
   ]
  },
  {
   "cell_type": "code",
   "execution_count": 67,
   "metadata": {},
   "outputs": [
    {
     "data": {
      "text/plain": [
       "[<matplotlib.lines.Line2D at 0x11bc7a2d0>]"
      ]
     },
     "execution_count": 67,
     "metadata": {},
     "output_type": "execute_result"
    },
    {
     "data": {
      "image/png": "[encoded data removed]",
      "text/plain": [
       "<Figure size 432x288 with 1 Axes>"
      ]
     },
     "metadata": {
      "needs_background": "light"
     },
     "output_type": "display_data"
    }
   ],
   "source": [
    "plt.plot(L)"
   ]
  },
  {
   "cell_type": "markdown",
   "metadata": {},
   "source": [
    "o bien, podríamos querer estos datos de forma decreciente:"
   ]
  },
  {
   "cell_type": "code",
   "execution_count": 70,
   "metadata": {},
   "outputs": [],
   "source": [
    "L=sorted(L,reverse=True)"
   ]
  },
  {
   "cell_type": "code",
   "execution_count": 71,
   "metadata": {},
   "outputs": [
    {
     "data": {
      "text/plain": [
       "[<matplotlib.lines.Line2D at 0x11be11890>]"
      ]
     },
     "execution_count": 71,
     "metadata": {},
     "output_type": "execute_result"
    },
    {
     "data": {
      "image/png": "[encoded data removed]",
      "text/plain": [
       "<Figure size 432x288 with 1 Axes>"
      ]
     },
     "metadata": {
      "needs_background": "light"
     },
     "output_type": "display_data"
    }
   ],
   "source": [
    "plt.plot(L)"
   ]
  },
  {
   "cell_type": "markdown",
   "metadata": {},
   "source": [
    "## Estructuras de control de flujo"
   ]
  },
  {
   "cell_type": "code",
   "execution_count": 119,
   "metadata": {},
   "outputs": [],
   "source": [
    "# ciclo for: "
   ]
  },
  {
   "cell_type": "code",
   "execution_count": 121,
   "metadata": {},
   "outputs": [
    {
     "name": "stdout",
     "output_type": "stream",
     "text": [
      "hola planeta  1\n",
      "hola planeta  2\n",
      "hola planeta  3\n",
      "hola planeta  4\n",
      "hola planeta  5\n",
      "hola planeta  6\n",
      "hola planeta  7\n",
      "hola planeta  8\n",
      "hola planeta  9\n",
      "hola planeta  10\n"
     ]
    }
   ],
   "source": [
    "for i in range(10): # range es una función que nos devuelve iterables\n",
    "    print('hola planeta ',i+1)"
   ]
  },
  {
   "cell_type": "markdown",
   "metadata": {},
   "source": [
    "Podemos colocar condiciones en nuestro flujo de operaciones, colocando sentencias if, e.g."
   ]
  },
  {
   "cell_type": "markdown",
   "metadata": {},
   "source": [
    "Consideremos el siguiente escenario. Tenemos un conjunto de padres e hijos que asistirán a un evento, y el departamento de marketing/logística está preparando regalos para ambos grupos. En este caso, un set de caramelos para los niños y blocks de notas de la marca para adultos. Dado que las edades de cada participante están en una lista, ¿como saber cuantos regalos infantiles y para adultos se deben comprar?"
   ]
  },
  {
   "cell_type": "code",
   "execution_count": 183,
   "metadata": {},
   "outputs": [],
   "source": [
    "RANGO_EDADES=[i for i in range(1,85)]\n",
    "EDADES=[]\n",
    "import random\n",
    "for i in range(201):\n",
    "    EDADES.append(random.choice(RANGO_EDADES))"
   ]
  },
  {
   "cell_type": "code",
   "execution_count": 181,
   "metadata": {},
   "outputs": [
    {
     "data": {
      "text/plain": [
       "0"
      ]
     },
     "execution_count": 181,
     "metadata": {},
     "output_type": "execute_result"
    }
   ],
   "source": []
  },
  {
   "cell_type": "code",
   "execution_count": null,
   "metadata": {},
   "outputs": [],
   "source": [
    "# "
   ]
  },
  {
   "cell_type": "code",
   "execution_count": null,
   "metadata": {},
   "outputs": [],
   "source": []
  },
  {
   "cell_type": "code",
   "execution_count": 122,
   "metadata": {},
   "outputs": [
    {
     "name": "stdout",
     "output_type": "stream",
     "text": [
      "0\n",
      "2\n",
      "6\n",
      "12\n",
      "20\n",
      "30\n",
      "42\n",
      "56\n",
      "72\n",
      "90\n",
      "110\n"
     ]
    }
   ],
   "source": [
    "# ciclo lógico while\n",
    "\n",
    "numero_especial=0\n",
    "i=0\n",
    "while numero_especial<100:\n",
    "    numero_especial=i*(i+1)\n",
    "    print(numero_especial)\n",
    "    i=i+1\n",
    "    "
   ]
  },
  {
   "cell_type": "markdown",
   "metadata": {},
   "source": [
    "pero imprimió el 110 ... ¿como evitar que esto ocurra?"
   ]
  },
  {
   "cell_type": "code",
   "execution_count": 123,
   "metadata": {},
   "outputs": [
    {
     "ename": "SyntaxError",
     "evalue": "invalid syntax (<ipython-input-123-9dc5457cf428>, line 3)",
     "output_type": "error",
     "traceback": [
      "\u001b[0;36m  File \u001b[0;32m\"<ipython-input-123-9dc5457cf428>\"\u001b[0;36m, line \u001b[0;32m3\u001b[0m\n\u001b[0;31m    while numero_especial=i*(i+1)<100:\u001b[0m\n\u001b[0m                         ^\u001b[0m\n\u001b[0;31mSyntaxError\u001b[0m\u001b[0;31m:\u001b[0m invalid syntax\n"
     ]
    }
   ],
   "source": []
  },
  {
   "cell_type": "markdown",
   "metadata": {},
   "source": [
    "# lectura de archivos en Python\n",
    "hay muchas formas de abrir un archivo en Python, la forma nativa es a través de la función open. Para ello nos descargamos el dataset disponible en \n",
    "https://timeseries.weebly.com/uploads/2/1/0/8/21086414/sea_ice.csv"
   ]
  },
  {
   "cell_type": "code",
   "execution_count": 161,
   "metadata": {},
   "outputs": [],
   "source": [
    "fname='/Users/aa/Downloads/sea_ice.csv'\n",
    "f = open(fname).readlines()\n",
    "firstLine = f.pop(0)"
   ]
  },
  {
   "cell_type": "markdown",
   "metadata": {},
   "source": [
    "para explorarlos necesitamos una lista en donde vaciarlos:"
   ]
  },
  {
   "cell_type": "code",
   "execution_count": 164,
   "metadata": {},
   "outputs": [],
   "source": [
    "artico=[]\n",
    "antartico=[]\n",
    "for line in f:\n",
    "    datos=line.split(',')\n",
    "    artico.append(float(datos[1])) # agregamos a la lista el dato, pero haciendo\n",
    "    antartico.append(float(datos[2])) # un cast de str a float\n",
    "    "
   ]
  },
  {
   "cell_type": "code",
   "execution_count": 168,
   "metadata": {},
   "outputs": [
    {
     "data": {
      "image/png": "[encoded data removed]",
      "text/plain": [
       "<Figure size 432x288 with 1 Axes>"
      ]
     },
     "metadata": {
      "needs_background": "light"
     },
     "output_type": "display_data"
    }
   ],
   "source": [
    "plt.figure()\n",
    "plt.plot(artico)\n",
    "plt.plot(antartico)\n",
    "plt.xlabel('Mes')\n",
    "plt.ylabel('Hielo Marino')\n",
    "plt.show()"
   ]
  },
  {
   "cell_type": "markdown",
   "metadata": {},
   "source": [
    "# Escritura de archivos\n",
    "para escribir archivos utilizamos la misma función open, pero esta vez usando la opción 'w'."
   ]
  },
  {
   "cell_type": "code",
   "execution_count": 175,
   "metadata": {},
   "outputs": [],
   "source": [
    "fname='/Users/aa/hola.txt'\n",
    "almacenar=open(fname,'w')"
   ]
  },
  {
   "cell_type": "markdown",
   "metadata": {},
   "source": [
    "en este caso escribiremos algo simple: una string. Para tal fin, utilizaremos el método write. "
   ]
  },
  {
   "cell_type": "code",
   "execution_count": 176,
   "metadata": {},
   "outputs": [
    {
     "data": {
      "text/plain": [
       "35"
      ]
     },
     "execution_count": 176,
     "metadata": {},
     "output_type": "execute_result"
    }
   ],
   "source": [
    "almacenar.write('Esta es una prueba de como escribir')"
   ]
  },
  {
   "cell_type": "code",
   "execution_count": 177,
   "metadata": {},
   "outputs": [],
   "source": [
    "# el proceso de escritura se ejecuta haciendo un flush o cerrando el archivo\n",
    "almacenar.flush()"
   ]
  },
  {
   "cell_type": "code",
   "execution_count": 178,
   "metadata": {},
   "outputs": [
    {
     "data": {
      "text/plain": [
       "14"
      ]
     },
     "execution_count": 178,
     "metadata": {},
     "output_type": "execute_result"
    }
   ],
   "source": [
    "almacenar.write('Linea número 2')"
   ]
  },
  {
   "cell_type": "code",
   "execution_count": 179,
   "metadata": {},
   "outputs": [],
   "source": [
    "almacenar.close()"
   ]
  },
  {
   "cell_type": "code",
   "execution_count": null,
   "metadata": {},
   "outputs": [],
   "source": [
    "# Tarea: Hacer una copia del archivo previamente descargado sin la fila de los campos."
   ]
  },
  {
   "cell_type": "code",
   "execution_count": 196,
   "metadata": {},
   "outputs": [
    {
     "name": "stdout",
     "output_type": "stream",
     "text": [
      "256\n"
     ]
    }
   ],
   "source": [
    "file=open('/Users/aa/Downloads/sea_ice.csv','r')\n",
    "k=len(file.readlines())\n",
    "print(k)\n",
    "salida=open('/Users/aa/copia_sea_ice.csv','w')\n",
    "\n",
    "file=open('/Users/aa/Downloads/sea_ice.csv','r')\n",
    "for i in range(k):\n",
    "    a=file.readline()\n",
    "    \n",
    "    if i==0: continue\n",
    "    a=a.split(',')\n",
    "    salida.write(a[1]+'\\t'+a[2]+'\\n')\n",
    "salida.close()"
   ]
  },
  {
   "cell_type": "markdown",
   "metadata": {},
   "source": [
    "### Leer archivos con la librería numpy \n",
    "Si tenemos archivos solo con datos numéricos, por ejemplo un archivo de valores numéricos tabulados o un csv sin strs, podemos usar la librería numpy para leerlo. Tomemos el archivo previamente descarga"
   ]
  },
  {
   "cell_type": "code",
   "execution_count": 198,
   "metadata": {},
   "outputs": [],
   "source": [
    "Datos=np.loadtxt('/Users/aa/copia_sea_ice.csv')"
   ]
  },
  {
   "cell_type": "markdown",
   "metadata": {},
   "source": [
    "podemos ver las dimensiones del arreglo cargado utilizando el método shape"
   ]
  },
  {
   "cell_type": "code",
   "execution_count": 199,
   "metadata": {},
   "outputs": [
    {
     "data": {
      "text/plain": [
       "(255, 2)"
      ]
     },
     "execution_count": 199,
     "metadata": {},
     "output_type": "execute_result"
    }
   ],
   "source": [
    "Datos.shape"
   ]
  },
  {
   "cell_type": "markdown",
   "metadata": {},
   "source": [
    "# Diccionarios\n",
    "Son estructuras definidas por pares de claves y valores. Comparando con la lista, los índices son las claves, y el valor de cada entrada corresponde a un valor de un diccionario. La diferencia principal está precisamente en la forma de indexar. \n",
    "\n",
    "Podemos utilizar nombres (strings) como índices, o números, e incluso listas. Es una estructura extremadamente flexible. En lo siguiente, veremos como definirlos y como iterar sobre ellos. "
   ]
  },
  {
   "cell_type": "code",
   "execution_count": 207,
   "metadata": {},
   "outputs": [],
   "source": [
    "A=dict([])"
   ]
  },
  {
   "cell_type": "code",
   "execution_count": 208,
   "metadata": {},
   "outputs": [
    {
     "data": {
      "text/plain": [
       "dict"
      ]
     },
     "execution_count": 208,
     "metadata": {},
     "output_type": "execute_result"
    }
   ],
   "source": [
    "type(A)"
   ]
  },
  {
   "cell_type": "code",
   "execution_count": 209,
   "metadata": {},
   "outputs": [],
   "source": [
    "# Diccionario Nombre / Rut\n",
    "A['Patricio Stevenson']='2236542-k'\n",
    "A['Pedro Cantabria']='3236542-1'\n",
    "A['Jesus Rodolfo']='1236542-2'\n",
    "A['Antonio Perez']='2536542-3'\n",
    "A['Juan James']='6236542-1'\n"
   ]
  },
  {
   "cell_type": "code",
   "execution_count": 210,
   "metadata": {},
   "outputs": [
    {
     "data": {
      "text/plain": [
       "{'Patricio Stevenson': '2236542-k',\n",
       " 'Pedro Cantabria': '3236542-1',\n",
       " 'Jesus Rodolfo': '1236542-2',\n",
       " 'Antonio Perez': '2536542-3',\n",
       " 'Juan James': '6236542-1'}"
      ]
     },
     "execution_count": 210,
     "metadata": {},
     "output_type": "execute_result"
    }
   ],
   "source": [
    "A"
   ]
  },
  {
   "cell_type": "code",
   "execution_count": 211,
   "metadata": {},
   "outputs": [
    {
     "data": {
      "text/plain": [
       "dict_keys(['Patricio Stevenson', 'Pedro Cantabria', 'Jesus Rodolfo', 'Antonio Perez', 'Juan James'])"
      ]
     },
     "execution_count": 211,
     "metadata": {},
     "output_type": "execute_result"
    }
   ],
   "source": [
    "# Metodo key()\n",
    "A.keys()"
   ]
  },
  {
   "cell_type": "code",
   "execution_count": 212,
   "metadata": {},
   "outputs": [
    {
     "data": {
      "text/plain": [
       "dict_values(['2236542-k', '3236542-1', '1236542-2', '2536542-3', '6236542-1'])"
      ]
     },
     "execution_count": 212,
     "metadata": {},
     "output_type": "execute_result"
    }
   ],
   "source": [
    "A.values()"
   ]
  },
  {
   "cell_type": "code",
   "execution_count": null,
   "metadata": {},
   "outputs": [],
   "source": []
  }
 ],
 "metadata": {
  "kernelspec": {
   "display_name": "Python 3",
   "language": "python",
   "name": "python3"
  },
  "language_info": {
   "codemirror_mode": {
    "name": "ipython",
    "version": 3
   },
   "file_extension": ".py",
   "mimetype": "text/x-python",
   "name": "python",
   "nbconvert_exporter": "python",
   "pygments_lexer": "ipython3",
   "version": "3.7.4"
  }
 },
 "nbformat": 4,
 "nbformat_minor": 2
}
