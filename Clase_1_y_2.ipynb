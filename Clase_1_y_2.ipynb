{
 "cells": [
  {
   "cell_type": "markdown",
   "metadata": {},
   "source": [
    "# Micro-Learning Sessions\n",
    "## Python en Cápsulas\n",
    "\n",
    "El objetivo de esta mini-tutoría es hacer un breve repaso de Python, sus tipos de datos, estructuras de control de flujo y lectura y escritura de archivos. Al finalizar este breve tutorial podrás:\n",
    "\n",
    "- Manejar los tipos de datos nativos de python\n",
    "- Manejar algunos tipos de datos / clases provenientes de librerías\n",
    "- Crear programas simples orientados a calcular cantidades de interés. \n",
    "- Leer, escribir y procesar archivos de datos en los formatos estándares. "
   ]
  },
  {
   "cell_type": "code",
   "execution_count": 1,
   "metadata": {},
   "outputs": [],
   "source": [
    "# Here we go !"
   ]
  },
  {
   "cell_type": "markdown",
   "metadata": {},
   "source": [
    "### Tipos de datos básicos y sus operaciones\n",
    "Entre los tipos de datos básicos que python posee tenemos a los enteros, flotantes, strings o cadenas de caracteres y Booleanos. Procedemos a revisar cada uno y sus posibles relaciones."
   ]
  },
  {
   "cell_type": "code",
   "execution_count": 2,
   "metadata": {},
   "outputs": [
    {
     "data": {
      "text/plain": [
       "int"
      ]
     },
     "execution_count": 2,
     "metadata": {},
     "output_type": "execute_result"
    }
   ],
   "source": [
    "# Enteros\n",
    "a=2\n",
    "type(a)"
   ]
  },
  {
   "cell_type": "code",
   "execution_count": 3,
   "metadata": {},
   "outputs": [
    {
     "data": {
      "text/plain": [
       "float"
      ]
     },
     "execution_count": 3,
     "metadata": {},
     "output_type": "execute_result"
    }
   ],
   "source": [
    "# Flotantes\n",
    "b=2.1\n",
    "type(b)"
   ]
  },
  {
   "cell_type": "code",
   "execution_count": 4,
   "metadata": {},
   "outputs": [
    {
     "data": {
      "text/plain": [
       "str"
      ]
     },
     "execution_count": 4,
     "metadata": {},
     "output_type": "execute_result"
    }
   ],
   "source": [
    "# Strings o cadenas de caracteres\n",
    "c='hola'\n",
    "type(c)"
   ]
  },
  {
   "cell_type": "code",
   "execution_count": 5,
   "metadata": {},
   "outputs": [
    {
     "data": {
      "text/plain": [
       "bool"
      ]
     },
     "execution_count": 5,
     "metadata": {},
     "output_type": "execute_result"
    }
   ],
   "source": [
    "# Booleanos \n",
    "d=True\n",
    "type(d)"
   ]
  },
  {
   "cell_type": "code",
   "execution_count": 6,
   "metadata": {},
   "outputs": [
    {
     "name": "stdout",
     "output_type": "stream",
     "text": [
      "4.1\n"
     ]
    },
    {
     "data": {
      "text/plain": [
       "float"
      ]
     },
     "execution_count": 6,
     "metadata": {},
     "output_type": "execute_result"
    }
   ],
   "source": [
    "# ¿Que pasaría si sumo a + b?\n",
    "suma1=a+b\n",
    "print(suma1) # función de python para imprimir en pantalla. \n",
    "# (Útil fuera de Jupyter)\n",
    "type(suma1)"
   ]
  },
  {
   "cell_type": "markdown",
   "metadata": {},
   "source": [
    "Observar que todo entero puede representante como flotante, pero no al contrario, por tanto hay una jerarquía natural de tipos de datos."
   ]
  },
  {
   "cell_type": "code",
   "execution_count": 7,
   "metadata": {},
   "outputs": [
    {
     "name": "stdout",
     "output_type": "stream",
     "text": [
      "holahola\n"
     ]
    }
   ],
   "source": [
    "# ¿y si multiplico a * c? \n",
    "# ¿podemos multiplicar un string con un número?\n",
    "print(a*c)"
   ]
  },
  {
   "cell_type": "code",
   "execution_count": 8,
   "metadata": {},
   "outputs": [],
   "source": [
    "# en efecto se puede, es decir, esta operación está bien definida."
   ]
  },
  {
   "cell_type": "code",
   "execution_count": 9,
   "metadata": {},
   "outputs": [
    {
     "ename": "TypeError",
     "evalue": "can't multiply sequence by non-int of type 'float'",
     "output_type": "error",
     "traceback": [
      "\u001b[0;31m---------------------------------------------------------------------------\u001b[0m",
      "\u001b[0;31mTypeError\u001b[0m                                 Traceback (most recent call last)",
      "\u001b[0;32m<ipython-input-9-0bca442c6721>\u001b[0m in \u001b[0;36m<module>\u001b[0;34m\u001b[0m\n\u001b[0;32m----> 1\u001b[0;31m \u001b[0mprint\u001b[0m\u001b[0;34m(\u001b[0m\u001b[0mb\u001b[0m\u001b[0;34m*\u001b[0m\u001b[0mc\u001b[0m\u001b[0;34m)\u001b[0m\u001b[0;34m\u001b[0m\u001b[0;34m\u001b[0m\u001b[0m\n\u001b[0m",
      "\u001b[0;31mTypeError\u001b[0m: can't multiply sequence by non-int of type 'float'"
     ]
    }
   ],
   "source": [
    "print(b*c)"
   ]
  },
  {
   "cell_type": "code",
   "execution_count": null,
   "metadata": {},
   "outputs": [],
   "source": [
    "# y claramente esta no."
   ]
  },
  {
   "cell_type": "code",
   "execution_count": 10,
   "metadata": {},
   "outputs": [
    {
     "name": "stdout",
     "output_type": "stream",
     "text": [
      "0\n"
     ]
    }
   ],
   "source": [
    "print(a*False)"
   ]
  },
  {
   "cell_type": "code",
   "execution_count": 11,
   "metadata": {},
   "outputs": [
    {
     "name": "stdout",
     "output_type": "stream",
     "text": [
      "2\n"
     ]
    }
   ],
   "source": [
    "print(a*True)"
   ]
  },
  {
   "cell_type": "code",
   "execution_count": 12,
   "metadata": {},
   "outputs": [
    {
     "name": "stdout",
     "output_type": "stream",
     "text": [
      "0\n"
     ]
    }
   ],
   "source": [
    "print(False*True) # true y false se comportan como 1 y 0 cuando se consideran en la multiplicación."
   ]
  },
  {
   "cell_type": "code",
   "execution_count": 13,
   "metadata": {},
   "outputs": [],
   "source": [
    "# ¿cuando son útiles estos tipos de datos?"
   ]
  },
  {
   "cell_type": "code",
   "execution_count": 14,
   "metadata": {},
   "outputs": [
    {
     "name": "stdout",
     "output_type": "stream",
     "text": [
      "True\n"
     ]
    }
   ],
   "source": [
    "print(a==2)"
   ]
  },
  {
   "cell_type": "code",
   "execution_count": 15,
   "metadata": {},
   "outputs": [
    {
     "name": "stdout",
     "output_type": "stream",
     "text": [
      "True\n"
     ]
    }
   ],
   "source": [
    "print(b>a)"
   ]
  },
  {
   "cell_type": "code",
   "execution_count": 16,
   "metadata": {},
   "outputs": [
    {
     "name": "stdout",
     "output_type": "stream",
     "text": [
      "False\n"
     ]
    }
   ],
   "source": [
    "print(b<a)"
   ]
  },
  {
   "cell_type": "markdown",
   "metadata": {},
   "source": [
    "### Tipado dinámico \n",
    "¿En que otros lenguajes ha programado?"
   ]
  },
  {
   "cell_type": "code",
   "execution_count": 17,
   "metadata": {},
   "outputs": [],
   "source": [
    "a=2 # es suficiente para crear una variable, asignarle tipo y valor. \n",
    "\n",
    "# ¿cómo sería el equivalente en los lenguajes de programación que conoce?"
   ]
  },
  {
   "cell_type": "code",
   "execution_count": 18,
   "metadata": {},
   "outputs": [],
   "source": [
    "a=3.2 # esto es suficiente para cambiar el tipo y reasignar valor. \n",
    "\n",
    "# ¿cómo sería el equivalente en los lenguajes de programación que conoce?"
   ]
  },
  {
   "cell_type": "code",
   "execution_count": null,
   "metadata": {},
   "outputs": [],
   "source": []
  },
  {
   "cell_type": "markdown",
   "metadata": {},
   "source": [
    "# Listas (el caballo de batalla de Python)"
   ]
  },
  {
   "cell_type": "code",
   "execution_count": 19,
   "metadata": {},
   "outputs": [],
   "source": [
    "# Para crear una lista vacía escribimos un par de corchetes cerrados [ ]:\n",
    "L=[]"
   ]
  },
  {
   "cell_type": "code",
   "execution_count": 20,
   "metadata": {},
   "outputs": [],
   "source": [
    "# Podemos defirla listando uno a uno sus valores\n",
    "L1=[1,2,3,4,5]"
   ]
  },
  {
   "cell_type": "code",
   "execution_count": 21,
   "metadata": {},
   "outputs": [],
   "source": [
    "# o bien creando una lista vacia agregando uno a uno sus valores, \n",
    "# utilizando el método append\n",
    "L2=[]\n",
    "L2.append(1)\n",
    "L2.append(2)\n",
    "L2.append(3)\n",
    "L2.append(4)\n",
    "L2.append(5)"
   ]
  },
  {
   "cell_type": "code",
   "execution_count": 22,
   "metadata": {},
   "outputs": [
    {
     "data": {
      "text/plain": [
       "[1, 2, 3, 4, 5]"
      ]
     },
     "execution_count": 22,
     "metadata": {},
     "output_type": "execute_result"
    }
   ],
   "source": [
    "L1"
   ]
  },
  {
   "cell_type": "code",
   "execution_count": 23,
   "metadata": {},
   "outputs": [
    {
     "data": {
      "text/plain": [
       "True"
      ]
     },
     "execution_count": 23,
     "metadata": {},
     "output_type": "execute_result"
    }
   ],
   "source": [
    "L1==L2"
   ]
  },
  {
   "cell_type": "markdown",
   "metadata": {},
   "source": [
    "una lista puede contener cualquier tipo de datos"
   ]
  },
  {
   "cell_type": "code",
   "execution_count": 24,
   "metadata": {},
   "outputs": [],
   "source": [
    "L3=[1,'hola',True, 3.12]"
   ]
  },
  {
   "cell_type": "markdown",
   "metadata": {},
   "source": [
    "inclusive puede contener listas o cualquier otra estructura de mayor complejidad"
   ]
  },
  {
   "cell_type": "code",
   "execution_count": 25,
   "metadata": {},
   "outputs": [],
   "source": [
    "L3.append([1,2,3,4,5])"
   ]
  },
  {
   "cell_type": "code",
   "execution_count": 26,
   "metadata": {},
   "outputs": [
    {
     "name": "stdout",
     "output_type": "stream",
     "text": [
      "[1, 'hola', True, 3.12, [1, 2, 3, 4, 5]]\n"
     ]
    }
   ],
   "source": [
    "print(L3)"
   ]
  },
  {
   "cell_type": "code",
   "execution_count": 27,
   "metadata": {},
   "outputs": [],
   "source": [
    "# Indices"
   ]
  },
  {
   "cell_type": "markdown",
   "metadata": {},
   "source": [
    "Podemos llamar cualquier elemento de una lista escribiendo el nombre de la variable y entre corchetes el índice del elemento que deseamos, como Python tiene indexado cero, para el primer elemento escribimos L[0]."
   ]
  },
  {
   "cell_type": "code",
   "execution_count": 28,
   "metadata": {},
   "outputs": [
    {
     "name": "stdout",
     "output_type": "stream",
     "text": [
      "1\n"
     ]
    }
   ],
   "source": [
    "print(L3[0])"
   ]
  },
  {
   "cell_type": "code",
   "execution_count": 29,
   "metadata": {},
   "outputs": [
    {
     "name": "stdout",
     "output_type": "stream",
     "text": [
      "True\n"
     ]
    }
   ],
   "source": [
    "print(L3[2])"
   ]
  },
  {
   "cell_type": "markdown",
   "metadata": {},
   "source": [
    "Podemos eliminar un elemento partícular de una lista usando el método remove()"
   ]
  },
  {
   "cell_type": "code",
   "execution_count": 30,
   "metadata": {},
   "outputs": [],
   "source": [
    "L3.remove(3.12)"
   ]
  },
  {
   "cell_type": "code",
   "execution_count": 31,
   "metadata": {},
   "outputs": [
    {
     "name": "stdout",
     "output_type": "stream",
     "text": [
      "[1, 'hola', True, [1, 2, 3, 4, 5]]\n"
     ]
    }
   ],
   "source": [
    "print(L3)"
   ]
  },
  {
   "cell_type": "markdown",
   "metadata": {},
   "source": [
    "También podemos empalmar dos listas haciendo"
   ]
  },
  {
   "cell_type": "code",
   "execution_count": 32,
   "metadata": {},
   "outputs": [],
   "source": [
    "L1=['a','b','c']\n",
    "L2=[1,2,3]\n",
    "L1.extend(L2)"
   ]
  },
  {
   "cell_type": "code",
   "execution_count": 33,
   "metadata": {},
   "outputs": [
    {
     "name": "stdout",
     "output_type": "stream",
     "text": [
      "['a', 'b', 'c', 1, 2, 3]\n"
     ]
    }
   ],
   "source": [
    "print(L1)"
   ]
  },
  {
   "cell_type": "code",
   "execution_count": 34,
   "metadata": {},
   "outputs": [
    {
     "data": {
      "text/plain": [
       "6"
      ]
     },
     "execution_count": 34,
     "metadata": {},
     "output_type": "execute_result"
    }
   ],
   "source": [
    "# Tamaño de una lista\n",
    "len(L1)"
   ]
  },
  {
   "cell_type": "markdown",
   "metadata": {},
   "source": [
    "Consideremos una lista mas compleja. Para este ejemplo utilizaré la librería numpy"
   ]
  },
  {
   "cell_type": "code",
   "execution_count": 35,
   "metadata": {},
   "outputs": [],
   "source": [
    "import numpy as np # esta forma de importar librerías es común en python "
   ]
  },
  {
   "cell_type": "code",
   "execution_count": 36,
   "metadata": {},
   "outputs": [],
   "source": [
    "L=np.random.random(100)"
   ]
  },
  {
   "cell_type": "markdown",
   "metadata": {},
   "source": [
    "Veamos la lista:"
   ]
  },
  {
   "cell_type": "code",
   "execution_count": 37,
   "metadata": {},
   "outputs": [
    {
     "name": "stdout",
     "output_type": "stream",
     "text": [
      "[0.98432175 0.0674494  0.5809134  0.76176914 0.50736028 0.66073471\n",
      " 0.17593001 0.40523049 0.44692734 0.05493628 0.51246085 0.775736\n",
      " 0.62411723 0.85514724 0.2632189  0.739569   0.73420786 0.09890541\n",
      " 0.77775376 0.10964935 0.67777955 0.21952209 0.93413413 0.39990807\n",
      " 0.75064769 0.01040343 0.44089497 0.39985562 0.78887121 0.82155458\n",
      " 0.95801265 0.37710435 0.46177708 0.43227687 0.49153283 0.64967696\n",
      " 0.97479445 0.0739132  0.07451144 0.8617332  0.99998391 0.71343025\n",
      " 0.23618439 0.81823197 0.22518682 0.66407561 0.95582971 0.45723526\n",
      " 0.97187603 0.84099696 0.45890497 0.43032742 0.57612196 0.84525817\n",
      " 0.51226761 0.49809209 0.06375394 0.8642169  0.59997174 0.73510329\n",
      " 0.89073341 0.84177955 0.87656486 0.87345401 0.02248993 0.8355917\n",
      " 0.49173339 0.13568724 0.07649396 0.92892992 0.36365535 0.34316235\n",
      " 0.4478393  0.38307036 0.6815182  0.17393793 0.90105771 0.8366694\n",
      " 0.15795003 0.39795637 0.78309932 0.70837891 0.8499337  0.81210029\n",
      " 0.37349    0.70718835 0.48522954 0.98452876 0.76854116 0.8057975\n",
      " 0.73303683 0.71978511 0.45378131 0.27746823 0.27773395 0.2306653\n",
      " 0.72564329 0.40585544 0.82735738 0.66613313]\n"
     ]
    }
   ],
   "source": [
    "print(L)"
   ]
  },
  {
   "cell_type": "markdown",
   "metadata": {},
   "source": [
    "notemos que los datos no están ordenados (pues se creo agregando números de forma aleatoria). Para tener intuición visual sobre esta lista, podemos graficar indice vs valor, usando la librería matplotlib."
   ]
  },
  {
   "cell_type": "code",
   "execution_count": 38,
   "metadata": {},
   "outputs": [
    {
     "data": {
      "text/plain": [
       "<Figure size 640x480 with 1 Axes>"
      ]
     },
     "metadata": {},
     "output_type": "display_data"
    }
   ],
   "source": [
    "import matplotlib.pyplot as plt\n",
    "plt.figure()\n",
    "plt.plot(L)\n",
    "plt.xlabel('i')\n",
    "plt.ylabel('L[i]')\n",
    "plt.show()\n"
   ]
  },
  {
   "cell_type": "markdown",
   "metadata": {},
   "source": [
    "Si esta lista estuviese ordenada de mayor a menor, veríamos una curva creciente. Procedamos a ordenarla."
   ]
  },
  {
   "cell_type": "code",
   "execution_count": 39,
   "metadata": {},
   "outputs": [],
   "source": [
    "L.sort()"
   ]
  },
  {
   "cell_type": "code",
   "execution_count": 40,
   "metadata": {},
   "outputs": [
    {
     "data": {
      "text/plain": [
       "[<matplotlib.lines.Line2D at 0x11fbd0690>]"
      ]
     },
     "execution_count": 40,
     "metadata": {},
     "output_type": "execute_result"
    },
    {
     "data": {
      "image/png": "[encoded data removed]",
      "text/plain": [
       "<Figure size 432x288 with 1 Axes>"
      ]
     },
     "metadata": {
      "needs_background": "light"
     },
     "output_type": "display_data"
    }
   ],
   "source": [
    "plt.plot(L)"
   ]
  },
  {
   "cell_type": "markdown",
   "metadata": {},
   "source": [
    "o bien, podríamos querer estos datos de forma decreciente:"
   ]
  },
  {
   "cell_type": "code",
   "execution_count": 41,
   "metadata": {},
   "outputs": [],
   "source": [
    "L=sorted(L,reverse=True)"
   ]
  },
  {
   "cell_type": "code",
   "execution_count": 42,
   "metadata": {},
   "outputs": [
    {
     "data": {
      "text/plain": [
       "[<matplotlib.lines.Line2D at 0x11fc724d0>]"
      ]
     },
     "execution_count": 42,
     "metadata": {},
     "output_type": "execute_result"
    },
    {
     "data": {
      "image/png": "[encoded data removed]",
      "text/plain": [
       "<Figure size 432x288 with 1 Axes>"
      ]
     },
     "metadata": {
      "needs_background": "light"
     },
     "output_type": "display_data"
    }
   ],
   "source": [
    "plt.plot(L)"
   ]
  },
  {
   "cell_type": "markdown",
   "metadata": {},
   "source": [
    "## Estructuras de control de flujo"
   ]
  },
  {
   "cell_type": "code",
   "execution_count": 43,
   "metadata": {},
   "outputs": [],
   "source": [
    "# ciclo for: "
   ]
  },
  {
   "cell_type": "code",
   "execution_count": 44,
   "metadata": {},
   "outputs": [
    {
     "name": "stdout",
     "output_type": "stream",
     "text": [
      "hola planeta  1\n",
      "hola planeta  2\n",
      "hola planeta  3\n",
      "hola planeta  4\n",
      "hola planeta  5\n",
      "hola planeta  6\n",
      "hola planeta  7\n",
      "hola planeta  8\n",
      "hola planeta  9\n",
      "hola planeta  10\n"
     ]
    }
   ],
   "source": [
    "for i in range(10): # range es una función que nos devuelve iterables\n",
    "    print('hola planeta ',i+1)"
   ]
  },
  {
   "cell_type": "markdown",
   "metadata": {},
   "source": [
    "Podemos colocar condiciones en nuestro flujo de operaciones, colocando sentencias if, e.g."
   ]
  },
  {
   "cell_type": "markdown",
   "metadata": {},
   "source": [
    "Consideremos el siguiente escenario. Tenemos un conjunto de padres e hijos que asistirán a un evento, y el departamento de marketing/logística está preparando regalos para ambos grupos. En este caso, un set de caramelos para los niños y blocks de notas de la marca para adultos. Dado que las edades de cada participante están en una lista, ¿como saber cuantos regalos infantiles y para adultos se deben comprar?"
   ]
  },
  {
   "cell_type": "code",
   "execution_count": 45,
   "metadata": {},
   "outputs": [],
   "source": [
    "RANGO_EDADES=[i for i in range(1,85)]\n",
    "EDADES=[]\n",
    "import random\n",
    "for i in range(201):\n",
    "    EDADES.append(random.choice(RANGO_EDADES))"
   ]
  },
  {
   "cell_type": "code",
   "execution_count": null,
   "metadata": {},
   "outputs": [],
   "source": []
  },
  {
   "cell_type": "code",
   "execution_count": 46,
   "metadata": {},
   "outputs": [],
   "source": [
    "# "
   ]
  },
  {
   "cell_type": "code",
   "execution_count": null,
   "metadata": {},
   "outputs": [],
   "source": []
  },
  {
   "cell_type": "code",
   "execution_count": 47,
   "metadata": {},
   "outputs": [
    {
     "name": "stdout",
     "output_type": "stream",
     "text": [
      "0\n",
      "2\n",
      "6\n",
      "12\n",
      "20\n",
      "30\n",
      "42\n",
      "56\n",
      "72\n",
      "90\n",
      "110\n"
     ]
    }
   ],
   "source": [
    "# ciclo lógico while\n",
    "\n",
    "numero_especial=0\n",
    "i=0\n",
    "while numero_especial<100:\n",
    "    numero_especial=i*(i+1)\n",
    "    print(numero_especial)\n",
    "    i=i+1\n",
    "    "
   ]
  },
  {
   "cell_type": "markdown",
   "metadata": {},
   "source": [
    "pero imprimió el 110 ... ¿como evitar que esto ocurra?"
   ]
  },
  {
   "cell_type": "code",
   "execution_count": null,
   "metadata": {},
   "outputs": [],
   "source": []
  },
  {
   "cell_type": "markdown",
   "metadata": {},
   "source": [
    "# lectura de archivos en Python\n",
    "hay muchas formas de abrir un archivo en Python, la forma nativa es a través de la función open. Para ello nos descargamos el dataset disponible en \n",
    "https://timeseries.weebly.com/uploads/2/1/0/8/21086414/sea_ice.csv"
   ]
  },
  {
   "cell_type": "code",
   "execution_count": 53,
   "metadata": {},
   "outputs": [],
   "source": [
    "fname='/Users/aa/Downloads/sea_ice.csv'\n",
    "f = open(fname).readlines()\n",
    "firstLine = f.pop(0)"
   ]
  },
  {
   "cell_type": "markdown",
   "metadata": {},
   "source": [
    "para explorarlos necesitamos una lista en donde vaciarlos:"
   ]
  },
  {
   "cell_type": "code",
   "execution_count": 49,
   "metadata": {},
   "outputs": [],
   "source": [
    "artico=[]\n",
    "antartico=[]\n",
    "for line in f:\n",
    "    datos=line.split(',')\n",
    "    artico.append(float(datos[1])) # agregamos a la lista el dato, pero haciendo\n",
    "    antartico.append(float(datos[2])) # un cast de str a float\n",
    "    "
   ]
  },
  {
   "cell_type": "code",
   "execution_count": 50,
   "metadata": {},
   "outputs": [
    {
     "data": {
      "image/png": "[encoded data removed]",
      "text/plain": [
       "<Figure size 432x288 with 1 Axes>"
      ]
     },
     "metadata": {
      "needs_background": "light"
     },
     "output_type": "display_data"
    }
   ],
   "source": [
    "plt.figure()\n",
    "plt.plot(artico)\n",
    "plt.plot(antartico)\n",
    "plt.xlabel('Mes')\n",
    "plt.ylabel('Hielo Marino')\n",
    "plt.show()"
   ]
  },
  {
   "cell_type": "markdown",
   "metadata": {},
   "source": [
    "# Escritura de archivos\n",
    "para escribir archivos utilizamos la misma función open, pero esta vez usando la opción 'w'."
   ]
  },
  {
   "cell_type": "code",
   "execution_count": 64,
   "metadata": {},
   "outputs": [],
   "source": [
    "fname='/Users/aa/hola.txt'\n",
    "almacenar=open(fname,'w')"
   ]
  },
  {
   "cell_type": "markdown",
   "metadata": {},
   "source": [
    "en este caso escribiremos algo simple: una string. Para tal fin, utilizaremos el método write. "
   ]
  },
  {
   "cell_type": "code",
   "execution_count": 63,
   "metadata": {},
   "outputs": [
    {
     "ename": "ValueError",
     "evalue": "I/O operation on closed file.",
     "output_type": "error",
     "traceback": [
      "\u001b[0;31m---------------------------------------------------------------------------\u001b[0m",
      "\u001b[0;31mValueError\u001b[0m                                Traceback (most recent call last)",
      "\u001b[0;32m<ipython-input-63-cd09f015cc56>\u001b[0m in \u001b[0;36m<module>\u001b[0;34m\u001b[0m\n\u001b[0;32m----> 1\u001b[0;31m \u001b[0malmacenar\u001b[0m\u001b[0;34m.\u001b[0m\u001b[0mwrite\u001b[0m\u001b[0;34m(\u001b[0m\u001b[0;34m'\\n'\u001b[0m\u001b[0;34m)\u001b[0m\u001b[0;34m\u001b[0m\u001b[0;34m\u001b[0m\u001b[0m\n\u001b[0m\u001b[1;32m      2\u001b[0m \u001b[0malmacenar\u001b[0m\u001b[0;34m.\u001b[0m\u001b[0mwrite\u001b[0m\u001b[0;34m(\u001b[0m\u001b[0;34m'12\\t 3123\\n'\u001b[0m\u001b[0;34m)\u001b[0m\u001b[0;34m\u001b[0m\u001b[0;34m\u001b[0m\u001b[0m\n\u001b[1;32m      3\u001b[0m \u001b[0mprint\u001b[0m\u001b[0;34m(\u001b[0m\u001b[0malmacenar\u001b[0m\u001b[0;34m)\u001b[0m\u001b[0;34m\u001b[0m\u001b[0;34m\u001b[0m\u001b[0m\n",
      "\u001b[0;31mValueError\u001b[0m: I/O operation on closed file."
     ]
    }
   ],
   "source": [
    "almacenar.write('\\n')\n",
    "almacenar.write('12\\t 3123\\n')\n"
   ]
  },
  {
   "cell_type": "code",
   "execution_count": 60,
   "metadata": {},
   "outputs": [],
   "source": [
    "# el proceso de escritura se ejecuta haciendo un flush o cerrando el archivo\n",
    "almacenar.flush()"
   ]
  },
  {
   "cell_type": "code",
   "execution_count": 61,
   "metadata": {},
   "outputs": [
    {
     "data": {
      "text/plain": [
       "14"
      ]
     },
     "execution_count": 61,
     "metadata": {},
     "output_type": "execute_result"
    }
   ],
   "source": [
    "almacenar.write('Linea número 2')"
   ]
  },
  {
   "cell_type": "code",
   "execution_count": 62,
   "metadata": {},
   "outputs": [],
   "source": [
    "almacenar.close()"
   ]
  },
  {
   "cell_type": "code",
   "execution_count": null,
   "metadata": {},
   "outputs": [],
   "source": [
    "# Tarea: Hacer una copia del archivo previamente descargado sin la fila de los campos."
   ]
  },
  {
   "cell_type": "code",
   "execution_count": null,
   "metadata": {},
   "outputs": [],
   "source": [
    "file=open('/Users/aa/Downloads/sea_ice.csv','r')\n",
    "k=len(file.readlines())\n",
    "print(k)\n",
    "salida=open('/Users/aa/copia_sea_ice.csv','w')\n",
    "\n",
    "file=open('/Users/aa/Downloads/sea_ice.csv','r')\n",
    "for i in range(k):\n",
    "    a=file.readline()\n",
    "    \n",
    "    if i==0: continue\n",
    "    a=a.split(',')\n",
    "    salida.write(a[1]+'\\t'+a[2]+'\\n')\n",
    "salida.close()"
   ]
  },
  {
   "cell_type": "markdown",
   "metadata": {},
   "source": [
    "### Leer archivos con la librería numpy \n",
    "Si tenemos archivos solo con datos numéricos, por ejemplo un archivo de valores numéricos tabulados o un csv sin strs, podemos usar la librería numpy para leerlo. Tomemos el archivo previamente descarga"
   ]
  },
  {
   "cell_type": "code",
   "execution_count": 65,
   "metadata": {},
   "outputs": [],
   "source": [
    "import numpy as np\n",
    "Datos=np.loadtxt('/Users/aa/copia_sea_ice.csv')"
   ]
  },
  {
   "cell_type": "markdown",
   "metadata": {},
   "source": [
    "podemos ver las dimensiones del arreglo cargado utilizando el método shape"
   ]
  },
  {
   "cell_type": "code",
   "execution_count": 66,
   "metadata": {},
   "outputs": [
    {
     "data": {
      "text/plain": [
       "(255, 2)"
      ]
     },
     "execution_count": 66,
     "metadata": {},
     "output_type": "execute_result"
    }
   ],
   "source": [
    "Datos.shape"
   ]
  },
  {
   "cell_type": "markdown",
   "metadata": {},
   "source": [
    "# Diccionarios\n",
    "Son estructuras definidas por pares de claves y valores. Comparando con la lista, los índices son las claves, y el valor de cada entrada corresponde a un valor de un diccionario. La diferencia principal está precisamente en la forma de indexar. \n",
    "\n",
    "Podemos utilizar nombres (strings) como índices, o números, e incluso listas. Es una estructura extremadamente flexible. En lo siguiente, veremos como definirlos y como iterar sobre ellos. "
   ]
  },
  {
   "cell_type": "code",
   "execution_count": 67,
   "metadata": {},
   "outputs": [],
   "source": [
    "A=dict([])"
   ]
  },
  {
   "cell_type": "code",
   "execution_count": 68,
   "metadata": {},
   "outputs": [
    {
     "data": {
      "text/plain": [
       "dict"
      ]
     },
     "execution_count": 68,
     "metadata": {},
     "output_type": "execute_result"
    }
   ],
   "source": [
    "type(A)"
   ]
  },
  {
   "cell_type": "code",
   "execution_count": 69,
   "metadata": {},
   "outputs": [],
   "source": [
    "# Diccionario Nombre / Rut\n",
    "A['Patricio Stevenson']='2236542-k'\n",
    "A['Pedro Cantabria']='3236542-1'\n",
    "A['Jesus Rodolfo']='1236542-2'\n",
    "A['Antonio Perez']='2536542-3'\n",
    "A['Juan James']='6236542-1'\n"
   ]
  },
  {
   "cell_type": "code",
   "execution_count": 70,
   "metadata": {},
   "outputs": [
    {
     "data": {
      "text/plain": [
       "{'Patricio Stevenson': '2236542-k',\n",
       " 'Pedro Cantabria': '3236542-1',\n",
       " 'Jesus Rodolfo': '1236542-2',\n",
       " 'Antonio Perez': '2536542-3',\n",
       " 'Juan James': '6236542-1'}"
      ]
     },
     "execution_count": 70,
     "metadata": {},
     "output_type": "execute_result"
    }
   ],
   "source": [
    "A"
   ]
  },
  {
   "cell_type": "code",
   "execution_count": 71,
   "metadata": {},
   "outputs": [
    {
     "data": {
      "text/plain": [
       "dict_keys(['Patricio Stevenson', 'Pedro Cantabria', 'Jesus Rodolfo', 'Antonio Perez', 'Juan James'])"
      ]
     },
     "execution_count": 71,
     "metadata": {},
     "output_type": "execute_result"
    }
   ],
   "source": [
    "# Metodo key()\n",
    "A.keys()"
   ]
  },
  {
   "cell_type": "code",
   "execution_count": 72,
   "metadata": {},
   "outputs": [
    {
     "data": {
      "text/plain": [
       "dict_values(['2236542-k', '3236542-1', '1236542-2', '2536542-3', '6236542-1'])"
      ]
     },
     "execution_count": 72,
     "metadata": {},
     "output_type": "execute_result"
    }
   ],
   "source": [
    "A.values()"
   ]
  },
  {
   "cell_type": "code",
   "execution_count": null,
   "metadata": {},
   "outputs": [],
   "source": [
    "# Si detectan algún bug o fallo escribir a:\n",
    "# alejandro.alvarez@zentagroup.com\n",
    "# Todos los interesado en contribuir a este proyecto\n",
    "# pueden hacerlo a través del envío de nuevas versiones\n",
    "# o al hacer fork de este repositorio."
   ]
  },
  {
   "cell_type": "code",
   "execution_count": null,
   "metadata": {},
   "outputs": [],
   "source": []
  },
  {
   "cell_type": "code",
   "execution_count": null,
   "metadata": {},
   "outputs": [],
   "source": [
    "https://github.com/ajalvarez/zentapython"
   ]
  }
 ],
 "metadata": {
  "kernelspec": {
   "display_name": "Python 3",
   "language": "python",
   "name": "python3"
  },
  "language_info": {
   "codemirror_mode": {
    "name": "ipython",
    "version": 3
   },
   "file_extension": ".py",
   "mimetype": "text/x-python",
   "name": "python",
   "nbconvert_exporter": "python",
   "pygments_lexer": "ipython3",
   "version": "3.7.4"
  }
 },
 "nbformat": 4,
 "nbformat_minor": 2
}
